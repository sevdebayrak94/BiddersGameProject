{
 "cells": [
  {
   "cell_type": "code",
   "execution_count": 21,
   "id": "39c4955f-8598-446a-b6fe-8d74446923e3",
   "metadata": {},
   "outputs": [],
   "source": [
    "import os\n",
    "\n",
    "def clear():\n",
    "    # For Windows\n",
    "    if os.name == 'nt':\n",
    "        os.system('cls')\n",
    "    # For Mac and Linux (here, os.name is 'posix')\n",
    "    else:\n",
    "        os.system('clear')"
   ]
  },
  {
   "cell_type": "code",
   "execution_count": 33,
   "id": "77b7639c-c395-4cd2-8d4c-d30adff84cf6",
   "metadata": {},
   "outputs": [],
   "source": [
    "#Comparing the bids and finding the winner\n",
    "def finding_winner(bidders):\n",
    "    max = 0\n",
    "    winner = \"\"\n",
    "    for i in bidders:\n",
    "        if bidders[i] > max:\n",
    "            max = bidders[i]\n",
    "            winner = i\n",
    "    print(f\"The winner is {winner}\")\n",
    "            "
   ]
  },
  {
   "cell_type": "code",
   "execution_count": 35,
   "id": "f64e1291-ce59-466f-9b7b-4a72db4374b0",
   "metadata": {},
   "outputs": [
    {
     "name": "stdout",
     "output_type": "stream",
     "text": [
      "Welcome to the Auction Program\n"
     ]
    },
    {
     "name": "stdin",
     "output_type": "stream",
     "text": [
      "What is your name?:  sevde\n",
      "What is your bid:  78\n",
      "Are there any bidders? Write 'yes'or 'no':  yes\n"
     ]
    },
    {
     "name": "stdout",
     "output_type": "stream",
     "text": [
      "\u001b[H\u001b[2J"
     ]
    },
    {
     "name": "stdin",
     "output_type": "stream",
     "text": [
      "What is your name?:  jack\n",
      "What is your bid:  89\n",
      "Are there any bidders? Write 'yes'or 'no':  no\n"
     ]
    },
    {
     "name": "stdout",
     "output_type": "stream",
     "text": [
      "The winner is jack\n"
     ]
    }
   ],
   "source": [
    "print(\"Welcome to the Auction Program\")\n",
    "bidders_dict = {}\n",
    "import os\n",
    "game_continue = True\n",
    "while game_continue: \n",
    "    name = input(\"What is your name?: \")\n",
    "    bid = int(input(\"What is your bid: \"))\n",
    "    bidders_dict[name] = bid\n",
    "    next_user = input(\"Are there any bidders? Write 'yes'or 'no': \").lower()\n",
    "    if next_user == \"no\":\n",
    "        game_continue = False\n",
    "        finding_winner(bidders_dict)\n",
    "    elif next_user == \"yes\":\n",
    "        clear()"
   ]
  },
  {
   "cell_type": "code",
   "execution_count": null,
   "id": "5a139865-a848-4e93-afe5-874305997970",
   "metadata": {},
   "outputs": [],
   "source": []
  }
 ],
 "metadata": {
  "kernelspec": {
   "display_name": "Python 3 (ipykernel)",
   "language": "python",
   "name": "python3"
  },
  "language_info": {
   "codemirror_mode": {
    "name": "ipython",
    "version": 3
   },
   "file_extension": ".py",
   "mimetype": "text/x-python",
   "name": "python",
   "nbconvert_exporter": "python",
   "pygments_lexer": "ipython3",
   "version": "3.11.7"
  }
 },
 "nbformat": 4,
 "nbformat_minor": 5
}
